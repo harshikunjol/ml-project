{
 "cells": [
  {
   "cell_type": "code",
   "execution_count": 1,
   "id": "bca23b27-611a-4de5-aa8b-f816db289a2c",
   "metadata": {},
   "outputs": [
    {
     "name": "stdout",
     "output_type": "stream",
     "text": [
      "Requirement already satisfied: statsmodels in c:\\users\\user\\appdata\\local\\programs\\python\\python311\\lib\\site-packages (0.14.2)\n",
      "Requirement already satisfied: numpy>=1.22.3 in c:\\users\\user\\appdata\\local\\programs\\python\\python311\\lib\\site-packages (from statsmodels) (1.26.2)\n",
      "Requirement already satisfied: scipy!=1.9.2,>=1.8 in c:\\users\\user\\appdata\\local\\programs\\python\\python311\\lib\\site-packages (from statsmodels) (1.13.1)\n",
      "Requirement already satisfied: pandas!=2.1.0,>=1.4 in c:\\users\\user\\appdata\\local\\programs\\python\\python311\\lib\\site-packages (from statsmodels) (2.1.4)\n",
      "Requirement already satisfied: patsy>=0.5.6 in c:\\users\\user\\appdata\\local\\programs\\python\\python311\\lib\\site-packages (from statsmodels) (0.5.6)\n",
      "Requirement already satisfied: packaging>=21.3 in c:\\users\\user\\appdata\\local\\programs\\python\\python311\\lib\\site-packages (from statsmodels) (23.2)\n",
      "Requirement already satisfied: python-dateutil>=2.8.2 in c:\\users\\user\\appdata\\local\\programs\\python\\python311\\lib\\site-packages (from pandas!=2.1.0,>=1.4->statsmodels) (2.8.2)\n",
      "Requirement already satisfied: pytz>=2020.1 in c:\\users\\user\\appdata\\local\\programs\\python\\python311\\lib\\site-packages (from pandas!=2.1.0,>=1.4->statsmodels) (2023.3.post1)\n",
      "Requirement already satisfied: tzdata>=2022.1 in c:\\users\\user\\appdata\\local\\programs\\python\\python311\\lib\\site-packages (from pandas!=2.1.0,>=1.4->statsmodels) (2023.3)\n",
      "Requirement already satisfied: six in c:\\users\\user\\appdata\\local\\programs\\python\\python311\\lib\\site-packages (from patsy>=0.5.6->statsmodels) (1.16.0)\n",
      "Note: you may need to restart the kernel to use updated packages.\n"
     ]
    },
    {
     "name": "stderr",
     "output_type": "stream",
     "text": [
      "\n",
      "[notice] A new release of pip is available: 23.2.1 -> 24.0\n",
      "[notice] To update, run: C:\\Users\\user\\AppData\\Local\\Programs\\Python\\Python311\\python.exe -m pip install --upgrade pip\n"
     ]
    }
   ],
   "source": [
    "pip install statsmodels"
   ]
  },
  {
   "cell_type": "code",
   "execution_count": 2,
   "id": "8e42fa4c-73ea-4405-9326-4ec0805114c9",
   "metadata": {},
   "outputs": [
    {
     "name": "stdout",
     "output_type": "stream",
     "text": [
      "Requirement already satisfied: scipy in c:\\users\\user\\appdata\\local\\programs\\python\\python311\\lib\\site-packages (1.13.1)\n",
      "Requirement already satisfied: numpy<2.3,>=1.22.4 in c:\\users\\user\\appdata\\local\\programs\\python\\python311\\lib\\site-packages (from scipy) (1.26.2)\n",
      "Note: you may need to restart the kernel to use updated packages.\n"
     ]
    },
    {
     "name": "stderr",
     "output_type": "stream",
     "text": [
      "\n",
      "[notice] A new release of pip is available: 23.2.1 -> 24.0\n",
      "[notice] To update, run: C:\\Users\\user\\AppData\\Local\\Programs\\Python\\Python311\\python.exe -m pip install --upgrade pip\n"
     ]
    }
   ],
   "source": [
    "pip install scipy"
   ]
  },
  {
   "cell_type": "code",
   "execution_count": 1,
   "id": "764226d1-951f-4ee3-ad31-53c16e0ebe65",
   "metadata": {},
   "outputs": [],
   "source": [
    "import numpy as np"
   ]
  },
  {
   "cell_type": "markdown",
   "id": "82efd8ad-5bee-4136-8220-5950a1d4c1d8",
   "metadata": {},
   "source": [
    "## TASK 1"
   ]
  },
  {
   "cell_type": "markdown",
   "id": "c12c6e06-a146-4e16-8577-104816688ff2",
   "metadata": {},
   "source": [
    "<b>Q1.</b>Suppose a child psychologist claims that the average time working mothers spend talking to their children is at least 11 minutes per day. You conduct a random sample of 1000 working mothers and find they spend an average of 11.5 minutes per day talking with their children. Assume prior research suggests the population standard deviation is 2.3 minutes.Conduct a test with a level of significance of alpha = 0.05."
   ]
  },
  {
   "cell_type": "markdown",
   "id": "b9fbc31a-f7b3-452e-98ae-fb5a348f4565",
   "metadata": {},
   "source": [
    "##### ANSWER:"
   ]
  },
  {
   "cell_type": "markdown",
   "id": "ec26838a-836d-43bf-a6d7-1192773865e8",
   "metadata": {},
   "source": [
    "<b>Ho</b> = μ ≤ 11 minutes  (NULL Hypothesis)"
   ]
  },
  {
   "cell_type": "markdown",
   "id": "75e6fbe8-b925-45c9-a501-b6e0adb8c636",
   "metadata": {},
   "source": [
    "<b>Ha</b> = μ > 11 minutes (Alternative Hypothesis)"
   ]
  },
  {
   "cell_type": "markdown",
   "id": "6152a458-201c-44b4-9eee-313fa33db8ed",
   "metadata": {},
   "source": [
    "<b>x̄</b> = 11.5 minutes"
   ]
  },
  {
   "cell_type": "markdown",
   "id": "5660c702-fd61-4fc7-a4ce-558b9178f687",
   "metadata": {},
   "source": [
    "<b>n</b> = 1000"
   ]
  },
  {
   "cell_type": "markdown",
   "id": "68e48b28-77cb-476d-83de-5434da5f93bb",
   "metadata": {},
   "source": [
    "<b>σ</b> = 2.3 minutes"
   ]
  },
  {
   "cell_type": "markdown",
   "id": "03d35f8e-b3df-4162-b013-dbfaedfe061b",
   "metadata": {},
   "source": [
    "<b>α</b> = 0.05"
   ]
  },
  {
   "cell_type": "markdown",
   "id": "18561b7c-2ad4-456f-aeff-cd9df779e2ec",
   "metadata": {},
   "source": [
    "<u><b>Statistical Test</b></u>\r\n",
    "Since we have a sample of 1000, which is greater than 30, and we have a sample mean, standard deviation, and want to compare the sample mean to a population value ,so we can use Z-test.\r\n",
    "\r\n",
    "<table style=\"border:true\">\r\n",
    "<td><b>Formula Z=(x̄ - μ)/(σ/√n)</b></td>\r\n",
    "</table>\r\n",
    "\r\n",
    "Where: \r\n",
    "<ul>\r\n",
    "<li>x̄ = sample mean (11.5 minutes)</li>\r\n",
    "<li>μ = population mean (11 minutes)</li>\r\n",
    "<li>σ = population standard deviation (2.3 minutes)</li>\r\n",
    "<li>n = sample size (1000).</li>\r\n",
    "</ul>"
   ]
  },
  {
   "cell_type": "code",
   "execution_count": 3,
   "id": "a661bea1-a8cc-483e-b596-d05acd86e229",
   "metadata": {},
   "outputs": [],
   "source": [
    "import math"
   ]
  },
  {
   "cell_type": "code",
   "execution_count": 4,
   "id": "e45947ea-8dd2-4db5-8278-5f75513cca6c",
   "metadata": {},
   "outputs": [
    {
     "data": {
      "text/plain": [
       "6.874516652539955"
      ]
     },
     "execution_count": 4,
     "metadata": {},
     "output_type": "execute_result"
    }
   ],
   "source": [
    "Z = (11.5-11)/(2.3/math.sqrt(1000))\n",
    "Z"
   ]
  },
  {
   "cell_type": "markdown",
   "id": "171f48cf-f3c1-4f5b-a19f-c3983c4cc1be",
   "metadata": {},
   "source": [
    "\n",
    "### Find Critical Value:\n",
    "Since we're conducting a one-tailed test (since we're testing if the average time is more than 11 minutes), we will look up the critical value for a z-score corresponding to an alpha level of 0.05 from z-distribution table.\n",
    "<p>corresponds to an alpha level of 0.05</p>\n",
    "<p>Critical value=1.645</p>"
   ]
  },
  {
   "cell_type": "markdown",
   "id": "b673f335-e574-4b96-af02-69193ec78c95",
   "metadata": {},
   "source": [
    "## Conclusion:\n",
    "Based on the test, we do not have enough evidence to reject the null hypothesis. Therefore, we conclude that the data do not contradict the psychologist's claim that the average time working mothers spend talking to their children is at least 11 minutes per day at the 0.05 significance level."
   ]
  },
  {
   "cell_type": "markdown",
   "id": "d7c8e76b-bdea-4319-9db9-20ba8dee0369",
   "metadata": {},
   "source": [
    "# TASK 2"
   ]
  },
  {
   "cell_type": "markdown",
   "id": "c6b1c5c1-1be6-4230-9536-7b7cb6628580",
   "metadata": {},
   "source": [
    "<b>Q2.</b> A coffee shop claims that their average wait time for customers is less than 5 minutes. To test this claim, a sample of 40 customers is taken, and their wait times are recorded. The sample mean wait time is found to be 4.6 minutes with a standard deviation of 0.8 minutes. Perform a hypothesis test at a significance level of 0.05 and determine whether there is enough evidence to support the coffee shop's claim."
   ]
  },
  {
   "cell_type": "markdown",
   "id": "014d8400-e7ea-4fd5-9be4-46a72e0dfb5a",
   "metadata": {},
   "source": [
    "<B>ANSWER:-</B>"
   ]
  },
  {
   "cell_type": "markdown",
   "id": "79569907-378d-4347-b198-3f7354ca54ee",
   "metadata": {},
   "source": [
    "<b>\n",
    "H</b>o = μ ≥ 5 minute (Null Hypothesis)sv  in-1) = 39"
   ]
  },
  {
   "cell_type": "markdown",
   "id": "2f488ecc-437b-4be9-ac64-be1b4c6f9126",
   "metadata": {},
   "source": [
    "<b>Ha</b> = μ < 5 minutes (Alternative Hypothesis)"
   ]
  },
  {
   "cell_type": "markdown",
   "id": "600db9cf-bf2b-4ad7-b16d-386f1cac0995",
   "metadata": {},
   "source": [
    "<b>x̄</b> = 4.6 minutes"
   ]
  },
  {
   "cell_type": "markdown",
   "id": "b274d5a5-222a-485a-9240-8546d932b4e1",
   "metadata": {},
   "source": [
    "<b>n</b> = 40"
   ]
  },
  {
   "cell_type": "code",
   "execution_count": 11,
   "id": "54a420e3-7979-46c8-b10a-c1e7cc05b0bd",
   "metadata": {},
   "outputs": [],
   "source": [
    "population_tmean = 5"
   ]
  },
  {
   "cell_type": "code",
   "execution_count": 12,
   "id": "9660ffd3-d137-4983-ba03-23a8ef8bb694",
   "metadata": {},
   "outputs": [],
   "source": [
    "sample_tmean =4.6"
   ]
  },
  {
   "cell_type": "code",
   "execution_count": 13,
   "id": "b7901dbc-e62f-4e0a-aba5-40aa893f4109",
   "metadata": {},
   "outputs": [],
   "source": [
    "sample_size = 40"
   ]
  },
  {
   "cell_type": "code",
   "execution_count": 14,
   "id": "6f7e4143-ca80-4ce2-bd55-4357cd67ae97",
   "metadata": {},
   "outputs": [],
   "source": [
    "std_t = 0.8"
   ]
  },
  {
   "cell_type": "markdown",
   "id": "4247c1cf-768c-4337-b69a-aa382d05c722",
   "metadata": {},
   "source": [
    "<b>σ</b> = 0.8 minutes"
   ]
  },
  {
   "cell_type": "code",
   "execution_count": 15,
   "id": "d37ec306-27d1-4af2-8055-87d0071c106f",
   "metadata": {},
   "outputs": [],
   "source": [
    "alpha = 0.05"
   ]
  },
  {
   "cell_type": "markdown",
   "id": "40b750cc-d49c-48c3-8ae4-185f37bee77c",
   "metadata": {},
   "source": [
    "<u><b>Statistical Test</b></u>\n",
    "Here the population std is unknown, so we can use t-test for this.\n",
    "If the sample size is small (typically <30) and the population standard deviation is unknown, the t-test is appropriate. However, for larger sample sizes (usually greater than 30), the t-test can also be used even if the population standard deviation is unknown due to the Central Limit Theorem, which states that the distribution of sample means approaches a normal distribution as the sample size increases.\n",
    "\n",
    "<table style=\"border:true\">\n",
    "<td><b>Formula t_test_statistic=(x̄ - μ) / (σ / √n)</b></td>\n",
    "</table>\n",
    "\n",
    "\n",
    "Where: \n",
    "<ul>\n",
    "<li>x̄ = sample mean (4.6 minutes)</li>\n",
    "<li>μ = population mean (5 minutes)</li>\n",
    "<li>σ = Sample standard deviation (0.8 minutes)</li>\n",
    "<li>n = sample size (40).</li>\n",
    "    <li>α = Significance level (0.05(5%)).</li>\n",
    "<li>n-1 = Degree of freedom(39).</li>\n",
    "</ul>"
   ]
  },
  {
   "cell_type": "code",
   "execution_count": 16,
   "id": "831c6008-7bf3-48e0-956b-b27b834b7d39",
   "metadata": {},
   "outputs": [],
   "source": [
    "t_test =  (sample_tmean - population_tmean) / (0.8/math.sqrt(sample_size))"
   ]
  },
  {
   "cell_type": "code",
   "execution_count": 17,
   "id": "e063bb37-62d3-4e3a-8420-f18d6be14a2e",
   "metadata": {},
   "outputs": [
    {
     "data": {
      "text/plain": [
       "-3.162277660168382"
      ]
     },
     "execution_count": 17,
     "metadata": {},
     "output_type": "execute_result"
    }
   ],
   "source": [
    "t_test"
   ]
  },
  {
   "cell_type": "code",
   "execution_count": 18,
   "id": "e261e20f-1855-4818-8f3e-3977b7d4b9da",
   "metadata": {},
   "outputs": [],
   "source": [
    "from scipy.stats import t"
   ]
  },
  {
   "cell_type": "code",
   "execution_count": 19,
   "id": "71f901f8-8e5a-47c4-8298-0634d7969a0b",
   "metadata": {},
   "outputs": [],
   "source": [
    "df = 40 - 1  "
   ]
  },
  {
   "cell_type": "code",
   "execution_count": 20,
   "id": "8ffccf6c-d676-482a-a861-5bdc5b1d12cc",
   "metadata": {},
   "outputs": [],
   "source": [
    "alpha = 0.05"
   ]
  },
  {
   "cell_type": "code",
   "execution_count": 21,
   "id": "f8b9e29f-66ba-49f8-b091-f00f34117936",
   "metadata": {},
   "outputs": [],
   "source": [
    "t_critical = t.ppf(1 - alpha, df)"
   ]
  },
  {
   "cell_type": "code",
   "execution_count": 22,
   "id": "42255051-cb6e-4706-9ad1-6eabd9b10609",
   "metadata": {},
   "outputs": [
    {
     "name": "stdout",
     "output_type": "stream",
     "text": [
      "Critical value: 1.6848751217112248\n"
     ]
    }
   ],
   "source": [
    "print(\"Critical value:\", t_critical)"
   ]
  },
  {
   "cell_type": "markdown",
   "id": "548e832f-97a0-4928-8295-bddebfea2277",
   "metadata": {},
   "source": [
    "<b>Conclusion</b>: The calculated t-value (−3.1623) is less than the critical value ( 1.68491). Therefore, we reject the null hypothesis. There is enough evidence to support the coffee shop's claim that their average wait time for customers is less than 5 minutes.\n",
    "\n"
   ]
  },
  {
   "cell_type": "code",
   "execution_count": null,
   "id": "ab47f411-afbd-4e4d-85db-9e9df0ef6c72",
   "metadata": {},
   "outputs": [],
   "source": []
  },
  {
   "cell_type": "code",
   "execution_count": null,
   "id": "4d2205fa-13d0-43c3-a37a-575817cc27bb",
   "metadata": {},
   "outputs": [],
   "source": []
  }
 ],
 "metadata": {
  "kernelspec": {
   "display_name": "Python 3 (ipykernel)",
   "language": "python",
   "name": "python3"
  },
  "language_info": {
   "codemirror_mode": {
    "name": "ipython",
    "version": 3
   },
   "file_extension": ".py",
   "mimetype": "text/x-python",
   "name": "python",
   "nbconvert_exporter": "python",
   "pygments_lexer": "ipython3",
   "version": "3.11.5"
  }
 },
 "nbformat": 4,
 "nbformat_minor": 5
}
